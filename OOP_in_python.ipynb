{
  "nbformat": 4,
  "nbformat_minor": 0,
  "metadata": {
    "colab": {
      "provenance": [],
      "authorship_tag": "ABX9TyPMwaPDNpF2h8pSWIiE1eX3",
      "include_colab_link": true
    },
    "kernelspec": {
      "name": "python3",
      "display_name": "Python 3"
    },
    "language_info": {
      "name": "python"
    }
  },
  "cells": [
    {
      "cell_type": "markdown",
      "metadata": {
        "id": "view-in-github",
        "colab_type": "text"
      },
      "source": [
        "<a href=\"https://colab.research.google.com/github/lawgorithm/python_cheatsheets/blob/main/OOP_in_python.ipynb\" target=\"_parent\"><img src=\"https://colab.research.google.com/assets/colab-badge.svg\" alt=\"Open In Colab\"/></a>"
      ]
    },
    {
      "cell_type": "markdown",
      "source": [
        "# \\_\\_init\\_\\_\n",
        "\n",
        "Python syntax features unique, pre-defined methods of declaring an object belonging to each of these types: list, string, dictionary, tuple\n",
        "\n",
        "When some other type of object is declared, we need to call a special initialization function called a constructor method. Usually this takes the form:\n",
        "\n",
        "x = MyObject(\\<some arguments to the constructor\\>)\n",
        "\n",
        "A constructor method is a method declared with the special name \\_\\_init\\_\\_, usually included at the very beginning of a class definition"
      ],
      "metadata": {
        "id": "szsv0wUAzAzF"
      }
    },
    {
      "cell_type": "code",
      "source": [
        "class BankAccount:\n",
        "\n",
        "    # The constructor\n",
        "    def __init__(self,\n",
        "                 account_number: str,\n",
        "                 owner: str,\n",
        "                 balance: float,\n",
        "                 annual_interest: float):\n",
        "        self.account_number = account_number # this is an attribute\n",
        "        self.owner = owner\n",
        "        self.balance = balance\n",
        "        self.annual_interest = annual_interest\n",
        "\n",
        "    # Classes which contain only data attributes are not very different from\n",
        "    # dictionaries. Methods make them more interesting\n",
        "    # This method adds the annual interest to the balance of the account\n",
        "    def add_interest(self):\n",
        "        self.balance += self.balance * self.annual_interest\n",
        "\n",
        "# As the method is called, no argument should be given for the self parameter\n",
        "# Python assigns the value for self automatically\n",
        "peters_account = BankAccount(\"12345-678\", \"Peter Python\", 1500.0, 0.015)\n",
        "peters_account.add_interest()\n",
        "print(peters_account.balance)\n",
        "\n",
        "# Note: this will produce an error. self is the instantiation of the object, not\n",
        "# one of its attributes\n",
        "# print(peters_account.self)\n",
        "\n",
        "# Change the balance to 1500\n",
        "peters_account.balance = 1500\n",
        "print(peters_account.balance)\n",
        "\n",
        "# Add 2000 to the balance\n",
        "peters_account.balance += 2000\n",
        "print(peters_account.balance)"
      ],
      "metadata": {
        "colab": {
          "base_uri": "https://localhost:8080/"
        },
        "id": "-0O0RY4rv05Z",
        "outputId": "25551407-4276-43aa-c150-53f006fcf798"
      },
      "execution_count": 1,
      "outputs": [
        {
          "output_type": "stream",
          "name": "stdout",
          "text": [
            "1522.5\n",
            "1500\n",
            "3500\n"
          ]
        }
      ]
    },
    {
      "cell_type": "markdown",
      "source": [
        "## Helper methods and default values\n",
        "\n",
        "Helper methods can check for whether the arguments to class instantiation pass certain criteria. If not, they can be made to fall back to default values"
      ],
      "metadata": {
        "id": "uXCf1xyphA02"
      }
    },
    {
      "cell_type": "code",
      "source": [
        "from datetime import date\n",
        "\n",
        "class PersonalBest:\n",
        "\n",
        "    def __init__(self,\n",
        "                 player: str,\n",
        "                 day: int,\n",
        "                 month: int,\n",
        "                 year: int, points: int):\n",
        "        # Default values\n",
        "        self.player = \"\"\n",
        "        self.date_of_pb = date(1900, 1, 1)\n",
        "        self.points = 0\n",
        "\n",
        "        if self.name_ok(player):\n",
        "            self.player = player\n",
        "\n",
        "        if self.date_ok(day, month, year):\n",
        "            self.date_of_pb = date(year, month, day)\n",
        "\n",
        "        if self.points_ok(points):\n",
        "            self.points = points\n",
        "\n",
        "    # Helper methods to check the arguments are valid\n",
        "    def name_ok(self, name: str):\n",
        "        return len(name) >= 2 # Name should be at least two characters long\n",
        "\n",
        "    def date_ok(self, day, month, year):\n",
        "        try:\n",
        "            date(year, month, day)\n",
        "            return True\n",
        "        except:\n",
        "            # an exception is raised if the arguments are not valid\n",
        "            return False\n",
        "\n",
        "    def points_ok(self, points):\n",
        "        return points >= 0\n",
        "\n",
        "if __name__ == \"__main__\":\n",
        "    result1 = PersonalBest(\"Peter\", 1, 11, 2020, 235)\n",
        "    print(result1.points)\n",
        "    print(result1.player)\n",
        "    print(result1.date_of_pb)\n",
        "\n",
        "    # The date was not valid\n",
        "    result2 = PersonalBest(\"Paula\", 4, 13, 2019, 4555) # 13 is not a real month\n",
        "    print(result2.points)\n",
        "    print(result2.player)\n",
        "    print(result2.date_of_pb) # Prints the default value 1900-01-01\n",
        "\n",
        "    # Here's another example where we fall back to default values\n",
        "    print('New example:')\n",
        "    print()\n",
        "    foo = PersonalBest(\n",
        "        player = 'J',\n",
        "        day = 1,\n",
        "        month = 11,\n",
        "        year = 2020,\n",
        "        points = -4\n",
        "    )\n",
        "    print(foo.player)\n",
        "    print(foo.date_of_pb)\n",
        "    print(foo.points)"
      ],
      "metadata": {
        "colab": {
          "base_uri": "https://localhost:8080/"
        },
        "id": "ARET7DSK8s8s",
        "outputId": "3b465d1f-b2a0-40cd-8eec-0594d73d2268"
      },
      "execution_count": 2,
      "outputs": [
        {
          "output_type": "stream",
          "name": "stdout",
          "text": [
            "235\n",
            "Peter\n",
            "2020-11-01\n",
            "4555\n",
            "Paula\n",
            "1900-01-01\n",
            "New example:\n",
            "\n",
            "\n",
            "2020-11-01\n",
            "0\n"
          ]
        }
      ]
    },
    {
      "cell_type": "markdown",
      "source": [
        "## \\_\\_str\\__\n",
        "\n",
        "This special method is for printing an object. Its purpose is to return a snapshot of the state of the object in string format. If the class definition contains a \\_\\_str\\_\\_ method, the value returned by the method is the one printed out when the print command is executed."
      ],
      "metadata": {
        "id": "ITj4dwvxiUlO"
      }
    },
    {
      "cell_type": "code",
      "source": [
        "class Rectangle:\n",
        "    def __init__(self, left_upper: tuple, right_lower: tuple):\n",
        "        self.left_upper = left_upper\n",
        "        self.right_lower = right_lower\n",
        "        self.width = right_lower[0]-left_upper[0]\n",
        "        self.height = right_lower[1]-left_upper[1]\n",
        "\n",
        "    def area(self):\n",
        "        return self.width * self.height\n",
        "\n",
        "    def perimeter(self):\n",
        "        return self.width * 2 + self.height * 2\n",
        "\n",
        "    def move(self, x_change: int, y_change: int):\n",
        "        corner = self.left_upper\n",
        "        self.left_upper = (corner[0]+x_change, corner[1]+y_change)\n",
        "        corner = self.right_lower\n",
        "        self.right_lower = (corner[0]+x_change, corner[1]+y_change)\n",
        "\n",
        "    # This special underscore method returns the state of the object in string\n",
        "    # format. This gets invoked if you print an object with print(SomeRectangle)\n",
        "    def __str__(self):\n",
        "        return f\"rectangle {self.left_upper} ... {self.right_lower}\"\n",
        "\n",
        "rectangle = Rectangle((1, 1), (4, 3))\n",
        "print(rectangle.left_upper)\n",
        "print(rectangle.right_lower)\n",
        "print(rectangle.width)\n",
        "print(rectangle.height)\n",
        "print(rectangle.perimeter())\n",
        "print(rectangle.area())\n",
        "\n",
        "rectangle.move(3, 3)\n",
        "print(rectangle.left_upper)\n",
        "print(rectangle.right_lower)\n",
        "\n",
        "print(rectangle)"
      ],
      "metadata": {
        "id": "zisP2Xkig0ar",
        "colab": {
          "base_uri": "https://localhost:8080/"
        },
        "outputId": "1f73f1d3-bf96-4a9d-abb0-9eed8bc35e46"
      },
      "execution_count": 3,
      "outputs": [
        {
          "output_type": "stream",
          "name": "stdout",
          "text": [
            "(1, 1)\n",
            "(4, 3)\n",
            "3\n",
            "2\n",
            "10\n",
            "6\n",
            "(4, 4)\n",
            "(7, 6)\n",
            "rectangle (4, 4) ... (7, 6)\n"
          ]
        }
      ]
    },
    {
      "cell_type": "markdown",
      "source": [
        "# self\n",
        "\n",
        "The parameter name self is only used when referring to the features of the object (an instantiation of the class). These include both the data attributes and the methods attached to an object\n",
        "\n",
        "It is also possible to create local variables within method definitions without referring to self. You should do so if there is no need to access the variables outside the method"
      ],
      "metadata": {
        "id": "1JWr1Yby0h18"
      }
    },
    {
      "cell_type": "code",
      "source": [
        "class Vocabulary:\n",
        "    def __init__(self):\n",
        "        self.words = []\n",
        "\n",
        "    # ...\n",
        "\n",
        "    def longest_word(self):\n",
        "        # the correct way of declaring helper variables\n",
        "        # for use within a single method\n",
        "        longest = \"\"\n",
        "        length_of_longest = 0\n",
        "        # WARNING: DON'T DO THE BELOW. Using self will create permanent\n",
        "        # unnecessary attributes of the object, which can lead to bugs that\n",
        "        # are difficult to debug\n",
        "        #\n",
        "        # self.longest = \"\"\n",
        "        # self.length_of_longest = 0\n",
        "\n",
        "        for word in self.words:\n",
        "            if len(word) > length_of_longest:\n",
        "                length_of_longest = len(word)\n",
        "                longest = word\n",
        "\n",
        "        return longest"
      ],
      "metadata": {
        "id": "gqblhJOH0iu_"
      },
      "execution_count": 4,
      "outputs": []
    },
    {
      "cell_type": "markdown",
      "source": [
        "# Objects as arguments to methods\n",
        "\n",
        "https://programming-23.mooc.fi/part-9/1-objects-and-references#objects-as-arguments-to-methodshttps://programming-23.mooc.fi/part-9/1-objects-and-references#objects-as-arguments-to-methods\n",
        "\n",
        "When referencing another object of the same class within the class definition,\n",
        "use the argument name \"another\""
      ],
      "metadata": {
        "id": "ZUEzYyvm8znD"
      }
    },
    {
      "cell_type": "code",
      "source": [
        "class Person:\n",
        "    def __init__(self, name: str, year_of_birth: int):\n",
        "        self.name = name\n",
        "        self.year_of_birth = year_of_birth\n",
        "\n",
        "    # NB: type hints must be enclosed in quotation marks if the parameter\n",
        "    # is of the same type as the class itself!\n",
        "    def older_than(self, another: \"Person\"):\n",
        "        return self.year_of_birth < another.year_of_birth\n",
        "\n",
        "\n",
        "muhammad = Person(\"Muhammad ibn Musa al-Khwarizmi\", 780)\n",
        "pascal = Person(\"Blaise Pascal\", 1623)\n",
        "grace = Person(\"Grace Hopper\", 1906)\n",
        "\n",
        "if muhammad.older_than(pascal):\n",
        "    print(f\"{muhammad.name} is older than {pascal.name}\")\n",
        "else:\n",
        "    print(f\"{muhammad.name} is not older than {pascal.name}\")\n",
        "\n",
        "if grace.older_than(pascal):\n",
        "    print(f\"{grace.name} is older than {pascal.name}\")\n",
        "else:\n",
        "    print(f\"{grace.name} is not older than {pascal.name}\")"
      ],
      "metadata": {
        "id": "ORabINbN9Xyq",
        "colab": {
          "base_uri": "https://localhost:8080/"
        },
        "outputId": "59cd2ae4-6fe1-4b4e-c5d3-1b2f3d6219a7"
      },
      "execution_count": 5,
      "outputs": [
        {
          "output_type": "stream",
          "name": "stdout",
          "text": [
            "Muhammad ibn Musa al-Khwarizmi is older than Blaise Pascal\n",
            "Grace Hopper is not older than Blaise Pascal\n"
          ]
        }
      ]
    },
    {
      "cell_type": "markdown",
      "source": [
        "### Bad re-implementation of self.older_than() that doesn't follow the principles of OOP\n",
        "One of the principles of object oriented programming is to include any functionality which handles objects of a certain type in the class definition, as methods.\n"
      ],
      "metadata": {
        "id": "JG4wrfW9I8Dc"
      }
    },
    {
      "cell_type": "code",
      "source": [
        "def bad_older_than(person1: Person, person2: Person):\n",
        "    if person1.year_of_birth < person2.year_of_birth:\n",
        "        return True\n",
        "    else:\n",
        "        return False\n",
        "\n",
        "muhammad = Person(\"Muhammad ibn Musa al-Khwarizmi\", 780)\n",
        "pascal = Person(\"Blaise Pascal\", 1623)\n",
        "grace = Person(\"Grace Hopper\", 1906)\n",
        "\n",
        "if bad_older_than(muhammad, pascal):\n",
        "    print(f\"{muhammad.name} is older than {pascal.name}\")\n",
        "else:\n",
        "    print(f\"{muhammad.name} is not older than {pascal.name}\")\n",
        "\n",
        "if bad_older_than(grace, pascal):\n",
        "    print(f\"{grace.name} is older than {pascal.name}\")\n",
        "else:\n",
        "    print(f\"{grace.name} is not older than {pascal.name}\")"
      ],
      "metadata": {
        "colab": {
          "base_uri": "https://localhost:8080/"
        },
        "id": "iwCcXxdIIXYV",
        "outputId": "ed10ab9a-2fe2-4564-ff7f-4b1ccb423ccb"
      },
      "execution_count": 6,
      "outputs": [
        {
          "output_type": "stream",
          "name": "stdout",
          "text": [
            "Muhammad ibn Musa al-Khwarizmi is older than Blaise Pascal\n",
            "Grace Hopper is not older than Blaise Pascal\n"
          ]
        }
      ]
    },
    {
      "cell_type": "markdown",
      "source": [
        "# Objects as attributes\n",
        "https://programming-23.mooc.fi/part-9/2-objects-as-attributes"
      ],
      "metadata": {
        "id": "8i7IcL4oJOtv"
      }
    },
    {
      "cell_type": "code",
      "source": [
        "# Here's an example where objects of the class Team can have an attribute that\n",
        "# is a list of Players\n",
        "class Player:\n",
        "    def __init__(self, name: str, goals: int):\n",
        "        self.name = name\n",
        "        self.goals = goals\n",
        "\n",
        "    def __str__(self):\n",
        "        return f\"{self.name} ({self.goals} goals)\"\n",
        "\n",
        "class Team:\n",
        "    def __init__(self, name: str):\n",
        "        self.name = name\n",
        "        self.players = []\n",
        "\n",
        "    def add_player(self, player: Player):\n",
        "        self.players.append(player)\n",
        "\n",
        "    def find_player(self, name: str):\n",
        "        for player in self.players:\n",
        "            if player.name == name:\n",
        "                return player\n",
        "        return None\n",
        "\n",
        "player1 = Player(\"Peter\", 5)\n",
        "player2 = Player(\"Willie\", 0)\n",
        "team = Team('Mets')\n",
        "team.add_player(player1)\n",
        "team.add_player(player2)\n",
        "print(team.players)\n",
        "\n",
        "player = team.find_player(\"Willie\")\n",
        "print(player)"
      ],
      "metadata": {
        "id": "OS5Xbc7GSQq9",
        "colab": {
          "base_uri": "https://localhost:8080/"
        },
        "outputId": "333fcda6-cfed-41f7-a3df-2fe06901dfff"
      },
      "execution_count": 7,
      "outputs": [
        {
          "output_type": "stream",
          "name": "stdout",
          "text": [
            "[<__main__.Player object at 0x784e82565d50>, <__main__.Player object at 0x784e82566010>]\n",
            "Willie (0 goals)\n"
          ]
        }
      ]
    },
    {
      "cell_type": "markdown",
      "source": [
        "## clients\n",
        "\n",
        "In object oriented programming the term **client** refers to a program which uses a class, or instances of a class. A class offers the client **services** through which the client can access the objects created based on the class. The goals are:\n",
        "\n",
        "\n",
        "*   the use of a class and/or objects is as simple as possible from the client's point of view\n",
        "*   the *integrity* of any object is preserved at all times\n",
        "  * *integrity* = the *state* of an object always remains acceptable\n",
        "  * i.e. the values of the object's attributes are always acceptable\n",
        "  * e.g. object representing a date should never have 13 as the value of the month\n",
        "  * e.g. object modelling a student should never have a negative number of study credits\n",
        "\n"
      ],
      "metadata": {
        "id": "6cNGKGV9iD7q"
      }
    },
    {
      "cell_type": "code",
      "source": [
        "class Student:\n",
        "    def __init__(self, name: str, student_number: str):\n",
        "        self.name = name\n",
        "        self.student_number = student_number\n",
        "        self.study_credits = 0\n",
        "\n",
        "    def add_credits(self, study_credits):\n",
        "        # NOTE: This \"maintains integrity\" by disallowing negative credits\n",
        "        if study_credits > 0:\n",
        "            self.study_credits += study_credits\n",
        "\n",
        "sally = Student(\"Sally Student\", \"12345\")\n",
        "sally.add_credits(5)\n",
        "sally.add_credits(5)\n",
        "sally.add_credits(10)\n",
        "print(\"Study credits:\", sally.study_credits)\n",
        "\n",
        "# Integrity is maintained! Hooray!\n",
        "sally.add_credits(-500)\n",
        "print(\"Study credits:\", sally.study_credits)\n",
        "\n",
        "# PROBLEM: still possible for a client to access the attribute directly and do\n",
        "# something stupid\n",
        "sally.study_credits = -100\n",
        "print(\"Study credits:\", sally.study_credits)\n",
        "\n",
        "# SOLUTION: use \"encapsulation\" to hide attributes from clients"
      ],
      "metadata": {
        "colab": {
          "base_uri": "https://localhost:8080/"
        },
        "id": "ZlAh19OnjYx_",
        "outputId": "6c5f6a1e-3d85-4665-fb09-b76954b580f4"
      },
      "execution_count": 8,
      "outputs": [
        {
          "output_type": "stream",
          "name": "stdout",
          "text": [
            "Study credits: 20\n",
            "Study credits: 20\n",
            "Study credits: -100\n"
          ]
        }
      ]
    },
    {
      "cell_type": "markdown",
      "source": [
        "## Encapsulation (attributes that start with two underscores \\_\\_)\n",
        "\n",
        "A common feature in object oriented programming languages is that classes can usually hide their attributes from any prospective clients. Hidden attributes are usually called private. In Python this privacy is achieved by adding two underscores \\_\\_ to the beginning of the attribute name"
      ],
      "metadata": {
        "id": "m0KwAr_vhvI9"
      }
    },
    {
      "cell_type": "code",
      "source": [
        "class CreditCard:\n",
        "    # the attribute number is private, while the attribute name is accessible\n",
        "    def __init__(self, number: str, name: str, balance: float):\n",
        "        self.__number = number\n",
        "        self.name = name\n",
        "        # The balance cannot be changed directly because the attribute is\n",
        "        # private, but we've included the methods deposit_money and\n",
        "        # withdraw_money for changing the value. The method retrieve_balance\n",
        "        # returns the value stored in balance. The methods include some\n",
        "        # rudimentary checks for retaining the integrity of the object\n",
        "        self.__balance = balance\n",
        "\n",
        "    def deposit_money(self, amount: float):\n",
        "        if amount > 0:\n",
        "            self.__balance += amount\n",
        "\n",
        "    def withdraw_money(self, amount: float):\n",
        "        if amount > 0 and amount <= self.__balance:\n",
        "            self.__balance -= amount\n",
        "\n",
        "    def retrieve_balance(self):\n",
        "        return self.__balance\n",
        "\n",
        "\n",
        "\n",
        "card = CreditCard(\"123456\", \"Randy Riches\", 5000)\n",
        "print(card.name)\n",
        "try:\n",
        "    print(card.__balance)\n",
        "except:\n",
        "    print(\"This will not work\")\n",
        "\n",
        "# This will work, however:\n",
        "card._CreditCard__balance = -50\n",
        "print(card._CreditCard__balance)\n",
        "# There are ways around the underscore __ notation for hiding attributes. No\n",
        "# Python attribute is truly private -- this is intentional. On the other hand, a\n",
        "#  Python programmer is generally expected to respect the visibility guidelines\n",
        "# set in classes. In other object oriented programming languages, such as Java,\n",
        "# private variables are often truly hidden, and it is best if you think of\n",
        "# private Python variables as such as well"
      ],
      "metadata": {
        "colab": {
          "base_uri": "https://localhost:8080/"
        },
        "id": "nEJd3MN2mnyL",
        "outputId": "fc8b3f24-dbcf-4401-cf84-cdcc8d730d8f"
      },
      "execution_count": 9,
      "outputs": [
        {
          "output_type": "stream",
          "name": "stdout",
          "text": [
            "Randy Riches\n",
            "This will not work\n",
            "-50\n"
          ]
        }
      ]
    },
    {
      "cell_type": "markdown",
      "source": [
        "## getter and setter decorators\n",
        "\n",
        "In object oriented programming, methods which are dedicated to accessing and changing attributes are usually called getters and setters. Not all Python programmers use the terms \"getter\" and \"setter\", but the concept of properties outlined below is very similar, which is why we will use the generally accepted object oriented programming terminology here.\n",
        "\n",
        "Above, we created some public methods for accessing private attributes, but there is a more straightforward, \"pythonic\" way of accessing attributes. We\n",
        "will use special decorators like @propert to define getter and setter methods for accessing the private attribute.\n",
        "\n",
        "Getters and setters \"look like\" attributes rather than methods, and basically allow for controlled modification: it prevents direct, uncontrolled modification of a private attribute"
      ],
      "metadata": {
        "id": "-aBdswUlq60k"
      }
    },
    {
      "cell_type": "code",
      "source": [
        "class Wallet:\n",
        "    def __init__(self):\n",
        "        self.__money = 0\n",
        "\n",
        "    # A getter method\n",
        "    @property\n",
        "    def money(self):\n",
        "        return self.__money\n",
        "\n",
        "    # A setter method\n",
        "    @money.setter\n",
        "    def money(self, money):\n",
        "        if money >= 0:\n",
        "            self.__money = money\n",
        "        else:\n",
        "            raise ValueError(\"The amount must not be below zero\")"
      ],
      "metadata": {
        "id": "eXU7iUllq9w1"
      },
      "execution_count": 10,
      "outputs": []
    },
    {
      "cell_type": "code",
      "source": [
        "wallet = Wallet()\n",
        "print(wallet.money)\n",
        "\n",
        "# it \"looks like\" we are accessing a private attribute but we are just using\n",
        "# the getter and setter\n",
        "wallet.money = 50\n",
        "print(wallet.money)\n",
        "\n",
        "try:\n",
        "  wallet.money = -30\n",
        "  print(wallet.money)\n",
        "except:\n",
        "  print(\"This will not work\")"
      ],
      "metadata": {
        "colab": {
          "base_uri": "https://localhost:8080/"
        },
        "id": "rtsW-i38r_3D",
        "outputId": "d7e9151d-51bf-49d7-fdeb-6c8719c0cac3"
      },
      "execution_count": 11,
      "outputs": [
        {
          "output_type": "stream",
          "name": "stdout",
          "text": [
            "0\n",
            "50\n",
            "This will not work\n"
          ]
        }
      ]
    },
    {
      "cell_type": "markdown",
      "source": [
        "The methods defined within a class can be hidden in exactly the same way: if the method begins with two underscores __, it is not directly accessible by the client.\n",
        "\n",
        "However, there are differences. Private attributes often come paired with getter and setter methods for controlling access to them. Private methods, on the other hand, are usually intended for internal use only, as helper methods for processes which the client does not need to know about.\n",
        "\n",
        "Sometimes these private methods (especially those testing validity of inputs)  are only called in the constructor method, so the logic could actually live directly in the constructor. However, using a separate method often makes the code easier to read and also makes it possible to access the functionality later in other methods if necessary (even if this functionality is not yet added)\n",
        "\n",
        "Private methods are generally less common than private attributes. As a rule of thumb, a method should be hidden whenever the client has no need to directly access it. This is especially the case when it is possible that the client could adversely affect the integrity of the object by calling the method."
      ],
      "metadata": {
        "id": "Bx9L3-vx35kr"
      }
    },
    {
      "cell_type": "code",
      "source": [
        "class Recipient:\n",
        "    def __init__(self, name: str, email: str):\n",
        "        self.__name = name\n",
        "        if self.__check_email(email):\n",
        "            self.__email = email\n",
        "        else:\n",
        "            raise ValueError(\"The email address is not valid\")\n",
        "\n",
        "    def __check_email(self, email: str):\n",
        "        # A simple check: the address must be over 5 characters long\n",
        "        # and contain a dot and an @ character\n",
        "        return len(email) > 5 and \".\" in email and \"@\" in email\n",
        "\n",
        "    @property\n",
        "    def email(self):\n",
        "        return self.__email\n",
        "\n",
        "    @email.setter\n",
        "    def email(self, email: str):\n",
        "        if self.__check_email(email):\n",
        "            self.__email = email\n",
        "        else:\n",
        "            raise ValueError(\"The email address is not valid\")"
      ],
      "metadata": {
        "id": "1bLv1BPt4zLU"
      },
      "execution_count": 12,
      "outputs": []
    },
    {
      "cell_type": "code",
      "source": [
        "peter = Recipient(\"Peter Emailer\", \"peter@example.com\")\n",
        "try:\n",
        "  peter.__check_email(\"someone@example.com\")\n",
        "except:\n",
        "  print(\"This will not work\")\n",
        "\n",
        "peter.email = \"someone@example.com\"\n",
        "print(peter.email)\n",
        "\n",
        "try:\n",
        "  peter.email = \"someone.edu\"\n",
        "except:\n",
        "  print(\"This will not work\")"
      ],
      "metadata": {
        "colab": {
          "base_uri": "https://localhost:8080/"
        },
        "id": "LfYG2Bah467H",
        "outputId": "060355f2-0345-47e4-9550-f16b7e248a2a"
      },
      "execution_count": 13,
      "outputs": [
        {
          "output_type": "stream",
          "name": "stdout",
          "text": [
            "This will not work\n",
            "someone@example.com\n",
            "This will not work\n"
          ]
        }
      ]
    },
    {
      "cell_type": "markdown",
      "source": [
        "## class attributes\n",
        "\n",
        "The traits of objects are a central concept in object oriented programming. The term encompasses the methods and variables defined in the class definition.\n",
        "\n",
        "Thus far we have dealt mostly with traits of objects. These include the methods and attributes accessible in any instance of a class. In fact, classes *themselves* can also have traits, which are sometimes called static traits, or more specifically, class variables and class methods"
      ],
      "metadata": {
        "id": "iW-Bf537VKDJ"
      }
    },
    {
      "cell_type": "markdown",
      "source": [
        "### class variables\n",
        "\n",
        "Class variables enable us to have some data (e.g a constant) that is shared by the different instances. A class variable is accessed through the class itself, not through the specfic instances. The class variable doesn't change, no matter how many instances of the class are created.\n",
        "\n",
        "A class variable is\n",
        "\n",
        "*   declared without the self prefix\n",
        "*   usually outside any method definition\n",
        "    * typically want it accessible from anywhere within the class, or even from outside the class\n",
        "\n",
        "It's sort of like a \"global\" variable for the class (\"global\" in the sense that it's accessible to all instances of the class)"
      ],
      "metadata": {
        "id": "TtLrEWASW44m"
      }
    },
    {
      "cell_type": "code",
      "source": [
        "class SavingsAccount:\n",
        "    # general_rate is a class variable. It is defined within the class but\n",
        "    # outside any method definitions, and it does not use the self prefix\n",
        "    general_rate = 0.03\n",
        "\n",
        "    def __init__(self, account_number: str, balance: float, interest_rate: float):\n",
        "        self.__account_number = account_number\n",
        "        self.__balance = balance\n",
        "        self.__interest_rate = interest_rate\n",
        "\n",
        "    def add_interest(self):\n",
        "        # The total interest rate equals\n",
        "        # the general rate + the interest rate of the account\n",
        "        total_interest = SavingsAccount.general_rate + self.__interest_rate\n",
        "        self.__balance += self.__balance * total_interest\n",
        "\n",
        "    @property\n",
        "    def balance(self):\n",
        "        return self.__balance\n",
        "\n",
        "    @property\n",
        "    def total_interest(self):\n",
        "        return self.__interest_rate + SavingsAccount.general_rate"
      ],
      "metadata": {
        "id": "vXdjZLkeWqXO"
      },
      "execution_count": 14,
      "outputs": []
    },
    {
      "cell_type": "code",
      "source": [
        "# NOTE: a class variable is accessed through the name of the class\n",
        "# RECALL: instance variables, by contrast, are accessed through the name of the\n",
        "# object variable\n",
        "print(\"The general interest rate is\", SavingsAccount.general_rate)"
      ],
      "metadata": {
        "colab": {
          "base_uri": "https://localhost:8080/"
        },
        "id": "M2lRuY-YewUu",
        "outputId": "b6b9e78a-b270-4dfd-906b-b3249f5bd4bf"
      },
      "execution_count": 15,
      "outputs": [
        {
          "output_type": "stream",
          "name": "stdout",
          "text": [
            "The general interest rate is 0.03\n"
          ]
        }
      ]
    },
    {
      "cell_type": "code",
      "source": [
        "# class variables can change, and the change will be reflected in all instances\n",
        "account1 = SavingsAccount(\"12345\", 100, 0.03)\n",
        "account2 = SavingsAccount(\"54321\", 200, 0.06)\n",
        "\n",
        "print(\"General interest rate:\", SavingsAccount.general_rate)\n",
        "print(account1.total_interest)\n",
        "print(account2.total_interest)\n",
        "\n",
        "# The general rate of interest is now 10 percent\n",
        "SavingsAccount.general_rate = 0.10\n",
        "\n",
        "print(\"General interest rate:\", SavingsAccount.general_rate)\n",
        "print(account1.total_interest)\n",
        "print(account2.total_interest)"
      ],
      "metadata": {
        "colab": {
          "base_uri": "https://localhost:8080/"
        },
        "id": "BktjgsA9fZWo",
        "outputId": "93195395-7c99-40e4-8fe8-224bc067d9b5"
      },
      "execution_count": 16,
      "outputs": [
        {
          "output_type": "stream",
          "name": "stdout",
          "text": [
            "General interest rate: 0.03\n",
            "0.06\n",
            "0.09\n",
            "General interest rate: 0.1\n",
            "0.13\n",
            "0.16\n"
          ]
        }
      ]
    },
    {
      "cell_type": "markdown",
      "source": [
        "## class methods and @classmethod decorator\n",
        "\n",
        "Similar to class variables, a class method (a/k/a a static method) is a method which is not attached to any single instance of the class. A class method can be called without creating any instances of the class.\n",
        "\n",
        "A class method is defined with the @classmethod annotation. The first parameter is always cls. The variable name cls is similar to the self parameter. The difference is that cls points to the class while self point to an instance of the class"
      ],
      "metadata": {
        "id": "FMRymymOWwC_"
      }
    },
    {
      "cell_type": "code",
      "source": [
        "class Registration:\n",
        "    def __init__(self, owner: str, make: str, year: int, license_plate: str):\n",
        "        self.__owner = owner\n",
        "        self.__make = make\n",
        "        self.__year = year\n",
        "\n",
        "        # Call the license_plate.setter method\n",
        "        self.license_plate = license_plate\n",
        "\n",
        "    @property\n",
        "    def license_plate(self):\n",
        "        return self.__license_plate\n",
        "\n",
        "    @license_plate.setter\n",
        "    def license_plate(self, plate):\n",
        "        if Registration.license_plate_valid(plate):\n",
        "            self.__license_plate = plate\n",
        "        else:\n",
        "            raise ValueError(\"The license plate is not valid\")\n",
        "\n",
        "    # A class method for validating the license plate. It is implemented as\n",
        "    # a static class method because it is useful to be able to check if a\n",
        "    # license plate is valid even before a single Registration object is created\n",
        "    @classmethod\n",
        "    def license_plate_valid(cls, plate: str):\n",
        "        if len(plate) < 3 or \"-\" not in plate:\n",
        "            return False\n",
        "\n",
        "        # Check the beginning and end sections of the plate separately\n",
        "        letters, numbers = plate.split(\"-\")\n",
        "\n",
        "        # the beginning section can have only letters\n",
        "        for character in letters:\n",
        "            if character.lower() not in \"abcdefghijklmnopqrstuvwxyzåäö\":\n",
        "                return False\n",
        "\n",
        "        # the end section can have only numbers\n",
        "        for character in numbers:\n",
        "            if character not in \"1234567890\":\n",
        "                return False\n",
        "\n",
        "        return True"
      ],
      "metadata": {
        "id": "9voTIilGFSZQ"
      },
      "execution_count": 17,
      "outputs": []
    },
    {
      "cell_type": "code",
      "source": [
        "registration = Registration(\"Mary Motorist\", \"Volvo\", \"1992\", \"abc-123\")\n",
        "\n",
        "if Registration.license_plate_valid(\"xyz-789\"):\n",
        "    print(\"This is a valid license plate!\")"
      ],
      "metadata": {
        "colab": {
          "base_uri": "https://localhost:8080/"
        },
        "id": "6NgYVvZcFfgP",
        "outputId": "f246ec26-4453-4295-e998-d4a546bd52d5"
      },
      "execution_count": 18,
      "outputs": [
        {
          "output_type": "stream",
          "name": "stdout",
          "text": [
            "This is a valid license plate!\n"
          ]
        }
      ]
    },
    {
      "cell_type": "markdown",
      "source": [
        "## Default values for class parameters\n",
        "\n",
        "Default values are often used in constructors (often, not all information is available when an object is created). It is better to include a default value in the definition of the constructor method (such as None or the empty string) than to force the client to take care of the issue.\n",
        "\n",
        "The default values of parameters should never be instances of more complicated, mutable data structures, such as lists! See example below"
      ],
      "metadata": {
        "id": "jjH65AtfasYC"
      }
    },
    {
      "cell_type": "code",
      "source": [
        "class Student:\n",
        "    \"\"\" This class models a student \"\"\"\n",
        "\n",
        "    # the constructor method has some defaults\n",
        "    def __init__(self,\n",
        "                 name: str,\n",
        "                 student_number: str,\n",
        "                 credits: int = 0,\n",
        "                 notes: str = \"\"):\n",
        "        # calling the setter method for the name attribute\n",
        "        self.name = name\n",
        "\n",
        "        if len(student_number) < 5:\n",
        "            raise ValueError(\"A student number should have at least five characters\")\n",
        "\n",
        "        self.__student_number = student_number\n",
        "\n",
        "        # calling the setter method for the credits attribute\n",
        "        self.credits = credits\n",
        "\n",
        "        self.__notes = notes\n",
        "\n",
        "    @property\n",
        "    def name(self):\n",
        "        return self.__name\n",
        "\n",
        "    @name.setter\n",
        "    def name(self, name):\n",
        "        if name != \"\":\n",
        "            self.__name = name\n",
        "        else:\n",
        "            raise ValueError(\"The name cannot be an empty string\")\n",
        "\n",
        "    @property\n",
        "    def student_number(self):\n",
        "        return self.__student_number\n",
        "\n",
        "    @property\n",
        "    def credits(self):\n",
        "        return self.__credits\n",
        "\n",
        "    @credits.setter\n",
        "    def credits(self, op):\n",
        "        if op >= 0:\n",
        "            self.__credits = op\n",
        "        else:\n",
        "            raise ValueError(\"The number of study credits cannot be below zero\")\n",
        "\n",
        "    @property\n",
        "    def notes(self):\n",
        "        return self.__notes\n",
        "\n",
        "    @notes.setter\n",
        "    def notes(self, notes):\n",
        "        self.__notes = notes\n",
        "\n",
        "    def summary(self):\n",
        "        print(f\"Student {self.__name} ({self.student_number}):\")\n",
        "        print(f\"- credits: {self.__credits}\")\n",
        "        print(f\"- notes: {self.notes}\")"
      ],
      "metadata": {
        "id": "ce3CmW19azR3"
      },
      "execution_count": 19,
      "outputs": []
    },
    {
      "cell_type": "code",
      "source": [
        "# Passing only the name and the student number as arguments to the constructor\n",
        "student1 = Student(\"Sally Student\", \"12345\")\n",
        "student1.summary()\n",
        "\n",
        "# Passing the name, the student number and the number of study credits\n",
        "student2 = Student(\"Sassy Student\", \"54321\", 25)\n",
        "student2.summary()\n",
        "\n",
        "# Passing values for all the parameters\n",
        "student3 = Student(\"Saul Student\", \"99999\", 140, \"extra time in exam\")\n",
        "student3.summary()\n",
        "\n",
        "# Passing a value for notes, but not for study credits\n",
        "# NB: the parameter must be named now that the arguments are not in order\n",
        "student4 = Student(\"Sandy Student\", \"98765\", notes=\"absent in academic year 20-21\")\n",
        "student4.summary()"
      ],
      "metadata": {
        "colab": {
          "base_uri": "https://localhost:8080/"
        },
        "id": "f7Arl6ija3_s",
        "outputId": "fb8b2495-1768-43cf-99a3-3ff1587d6990"
      },
      "execution_count": 20,
      "outputs": [
        {
          "output_type": "stream",
          "name": "stdout",
          "text": [
            "Student Sally Student (12345):\n",
            "- credits: 0\n",
            "- notes: \n",
            "Student Sassy Student (54321):\n",
            "- credits: 25\n",
            "- notes: \n",
            "Student Saul Student (99999):\n",
            "- credits: 140\n",
            "- notes: extra time in exam\n",
            "Student Sandy Student (98765):\n",
            "- credits: 0\n",
            "- notes: absent in academic year 20-21\n"
          ]
        }
      ]
    },
    {
      "cell_type": "code",
      "source": [
        "#@title Example: don't use lists as default values!\n",
        "\n",
        "class Student:\n",
        "    def __init__(self, name, completed_courses=[]):\n",
        "        self.name = name\n",
        "        self.completed_courses = completed_courses\n",
        "\n",
        "    def add_course(self, course):\n",
        "        self.completed_courses.append(course)\n",
        "\n",
        "student1 = Student(\"Sally Student\")\n",
        "student2 = Student(\"Sassy Student\")\n",
        "\n",
        "student1.add_course(\"ItP\")\n",
        "student1.add_course(\"ACiP\")\n",
        "\n",
        "# Adding completed courses to Sally's list also adds those courses to Sassy's\n",
        "# list. In fact, these two are the exact same list, as Python reuses the\n",
        "# reference stored in the default value.\n",
        "print(student1.completed_courses)\n",
        "print(student2.completed_courses)\n",
        "\n",
        "# Instead, you can do the following:\n",
        "class Student:\n",
        "    def __init__(self, name, completed_courses=None):\n",
        "        self.name = name\n",
        "        if completed_courses is None:\n",
        "            self.completed_courses = []\n",
        "        else:\n",
        "            self.completed_courses = completed_courses\n",
        "\n",
        "    def add_course(self, course):\n",
        "        self.completed_courses.append(course)\n",
        "\n",
        "student1 = Student(\"Sally Student\")\n",
        "student2 = Student(\"Sassy Student\")\n",
        "\n",
        "student1.add_course(\"ItP\")\n",
        "student1.add_course(\"ACiP\")\n",
        "\n",
        "print(student1.completed_courses)\n",
        "print(student2.completed_courses)"
      ],
      "metadata": {
        "colab": {
          "base_uri": "https://localhost:8080/"
        },
        "id": "c9FJgROOefT6",
        "outputId": "097d2ca6-7740-416e-91d5-62969f4d65f6"
      },
      "execution_count": 21,
      "outputs": [
        {
          "output_type": "stream",
          "name": "stdout",
          "text": [
            "['ItP', 'ACiP']\n",
            "['ItP', 'ACiP']\n",
            "['ItP', 'ACiP']\n",
            "[]\n"
          ]
        }
      ]
    },
    {
      "cell_type": "markdown",
      "source": [
        "## Inheritance\n",
        "Object oriented programming languages usually feature a technique called inheritance. A class can inherit the traits of another class. In addition to these inherited traits a class can also contain traits which are unique to it.\n",
        "\n",
        "The syntax for inheritance simply involves adding the base class name in parentheses on the header line"
      ],
      "metadata": {
        "id": "rCXOx0SXpJGd"
      }
    },
    {
      "cell_type": "code",
      "source": [
        "class Person:\n",
        "\n",
        "   def __init__(self, name: str, email: str):\n",
        "       self.name = name\n",
        "       self.email = email\n",
        "\n",
        "   def update_email_domain(self, new_domain: str):\n",
        "       old_domain = self.email.split(\"@\")[1]\n",
        "       self.email = self.email.replace(old_domain, new_domain)\n",
        "\n",
        "\n",
        "class Student(Person):\n",
        "\n",
        "   def __init__(self, name: str, id: str, email: str, credits: str):\n",
        "       self.name = name\n",
        "       self.id = id\n",
        "       self.email = email\n",
        "       self.credits = credits\n",
        "\n",
        "\n",
        "class Teacher(Person):\n",
        "\n",
        "   def __init__(self, name: str, email: str, room: str, teaching_years: int):\n",
        "       self.name = name\n",
        "       self.email = email\n",
        "       self.room = room\n",
        "       self.teaching_years = teaching_years\n",
        "\n",
        "# Let's test our classes\n",
        "if __name__ == \"__main__\":\n",
        "   saul = Student(\"Saul Student\", \"1234\", \"saul@example.com\", 0)\n",
        "   saul.update_email_domain(\"example.edu\")\n",
        "   print(saul.email)\n",
        "\n",
        "   tara = Teacher(\"Tara Teacher\", \"tara@example.fi\", \"A123\", 2)\n",
        "   tara.update_email_domain(\"example.ex\")\n",
        "   print(tara.email)"
      ],
      "metadata": {
        "colab": {
          "base_uri": "https://localhost:8080/"
        },
        "id": "sb6LJpdupenB",
        "outputId": "848122f9-238c-41bd-e13e-cfec63815f7e"
      },
      "execution_count": 22,
      "outputs": [
        {
          "output_type": "stream",
          "name": "stdout",
          "text": [
            "saul@example.edu\n",
            "tara@example.ex\n"
          ]
        }
      ]
    },
    {
      "cell_type": "markdown",
      "source": [
        "## Inheritance and scope of traits -- super()"
      ],
      "metadata": {
        "id": "E2vkT1zIsaZi"
      }
    },
    {
      "cell_type": "code",
      "source": [
        "class Book:\n",
        "   \"\"\" This class models a simple book \"\"\"\n",
        "   def __init__(self, name: str, author: str):\n",
        "       self.name = name\n",
        "       self.author = author\n",
        "\n",
        "\n",
        "class BookContainer:\n",
        "   \"\"\" This class models a container for books \"\"\"\n",
        "\n",
        "   def __init__(self):\n",
        "       self.books = []\n",
        "\n",
        "   def add_book(self, book: Book):\n",
        "       self.books.append(book)\n",
        "\n",
        "   def list_books(self):\n",
        "       for book in self.books:\n",
        "           print(f\"{book.name} ({book.author})\")\n",
        "\n",
        "\n",
        "class Bookshelf(BookContainer):\n",
        "   \"\"\" This class models a shelf for books \"\"\"\n",
        "\n",
        "   def __init__(self):\n",
        "       # Call the constructor of the base class. As the attributes of a\n",
        "       # Bookshelf are identical to a BookContainer, there was no need to\n",
        "       # rewrite the constructor of Bookshelf. We simply called the constructor\n",
        "       # of the base class. Any trait in the base class can be accessed from the\n",
        "       # derived class with the function super(). The self argument is left out\n",
        "       # from the method call, as Python adds it automatically\n",
        "       super().__init__()\n",
        "\n",
        "   # The class Bookshelf contains the method add_book. A method with the same\n",
        "   # name is defined in the base class  BookContainer. This is called\n",
        "   # overriding: if a derived class has a method with the same name as the base\n",
        "   # class, the derived version overrides the original in instances of the\n",
        "   # derived class.\n",
        "   def add_book(self, book: Book, location: int):\n",
        "       self.books.insert(location, book)\n",
        "\n",
        "if __name__ == \"__main__\":\n",
        "   # Create some books for testing\n",
        "   b1 = Book(\"Old Man and the Sea\", \"Ernest Hemingway\")\n",
        "   b2 = Book(\"Silent Spring\", \"Rachel Carson\")\n",
        "   b3 = Book(\"Pride and Prejudice\", \"Jane Austen\")\n",
        "\n",
        "   # Create a BookContainer and add the books\n",
        "   container = BookContainer()\n",
        "   container.add_book(b1)\n",
        "   container.add_book(b2)\n",
        "   container.add_book(b3)\n",
        "\n",
        "   # Create a Bookshelf and add the books (always to the beginning)\n",
        "   shelf = Bookshelf()\n",
        "   shelf.add_book(b1, 0)\n",
        "   shelf.add_book(b2, 0)\n",
        "   shelf.add_book(b3, 0)\n",
        "\n",
        "\n",
        "   # Tulostetaan\n",
        "   print(\"Container:\")\n",
        "   container.list_books()\n",
        "\n",
        "   print()\n",
        "\n",
        "   print(\"Shelf:\")\n",
        "   shelf.list_books()"
      ],
      "metadata": {
        "colab": {
          "base_uri": "https://localhost:8080/"
        },
        "id": "3M-IhMGusccz",
        "outputId": "0e1104a6-c348-4c08-9e7b-e3a63a8e407d"
      },
      "execution_count": 23,
      "outputs": [
        {
          "output_type": "stream",
          "name": "stdout",
          "text": [
            "Container:\n",
            "Old Man and the Sea (Ernest Hemingway)\n",
            "Silent Spring (Rachel Carson)\n",
            "Pride and Prejudice (Jane Austen)\n",
            "\n",
            "Shelf:\n",
            "Pride and Prejudice (Jane Austen)\n",
            "Silent Spring (Rachel Carson)\n",
            "Old Man and the Sea (Ernest Hemingway)\n"
          ]
        }
      ]
    },
    {
      "cell_type": "code",
      "source": [
        "#@title Example of using super() when the attributes of the base class constructor and constructor are not identical\n",
        "\n",
        "class Book:\n",
        "    \"\"\" This class models a simple book \"\"\"\n",
        "\n",
        "    def __init__(self, name: str, author: str):\n",
        "        self.name = name\n",
        "        self.author = author\n",
        "\n",
        "\n",
        "class Thesis(Book):\n",
        "    \"\"\" This class models a graduate thesis \"\"\"\n",
        "\n",
        "    def __init__(self, name: str, author: str, grade: int):\n",
        "        super().__init__(name, author)\n",
        "        self.grade = grade"
      ],
      "metadata": {
        "id": "r1l828UesvBU"
      },
      "execution_count": 24,
      "outputs": []
    },
    {
      "cell_type": "code",
      "source": [
        "#@title Example of using overriden methods\n",
        "class Product:\n",
        "\n",
        "    def __init__(self, name: str, price: float):\n",
        "        self.name = name\n",
        "        self.price = price\n",
        "\n",
        "class BonusCard:\n",
        "\n",
        "    def __init__(self):\n",
        "        self.products_bought = []\n",
        "\n",
        "    def add_product(self, product: Product):\n",
        "        self.products_bought.append(product)\n",
        "\n",
        "    def calculate_bonus(self):\n",
        "        bonus = 0\n",
        "        for product in self.products_bought:\n",
        "            bonus += product.price * 0.05\n",
        "\n",
        "        return bonus\n",
        "\n",
        "class PlatinumCard(BonusCard):\n",
        "\n",
        "    def __init__(self):\n",
        "        super().__init__()\n",
        "\n",
        "    def calculate_bonus(self):\n",
        "        # Call the method in the base class\n",
        "        bonus = super().calculate_bonus()\n",
        "\n",
        "        # ...and add five percent to the total\n",
        "        bonus = bonus * 1.05\n",
        "        return bonus\n",
        "\n",
        "if __name__ == \"__main__\":\n",
        "    card = BonusCard()\n",
        "    card.add_product(Product(\"Bananas\", 6.50))\n",
        "    card.add_product(Product(\"Satsumas\", 7.95))\n",
        "    bonus = card.calculate_bonus()\n",
        "\n",
        "    card2 = PlatinumCard()\n",
        "    card2.add_product(Product(\"Bananas\", 6.50))\n",
        "    card2.add_product(Product(\"Satsumas\", 7.95))\n",
        "    bonus2 = card2.calculate_bonus()\n",
        "\n",
        "    print(bonus)\n",
        "    print(bonus2)"
      ],
      "metadata": {
        "colab": {
          "base_uri": "https://localhost:8080/"
        },
        "id": "B2BBxhY2tu2c",
        "outputId": "b56db364-ddce-424e-c922-5713e3bfb2fa"
      },
      "execution_count": 25,
      "outputs": [
        {
          "output_type": "stream",
          "name": "stdout",
          "text": [
            "0.7225\n",
            "0.7586250000000001\n"
          ]
        }
      ]
    },
    {
      "cell_type": "markdown",
      "source": [
        "## protected traits\n",
        "One issue with inheritence is that private attributes and methods (those with double underscore __) will not be accessible to derived classes. This motivates the introduction of protected traits.\n",
        "\n",
        "Many object oriented programming languages have a feature, usually a special keyword, for protecting traits. **This means that a trait should be hidden from the clients of the class, but kept accessible to its subclasses**. Python in general abhors keywords, so no such feature is directly available in Python. Instead, there is a **convention** of marking protected traits in a certain way.The agreed convention to protect a trait is to prefix the name with a **single underscore**, _. This is just a convention: nothing prevents a programmer from breaking the convention, but it is considered a bad programming practice"
      ],
      "metadata": {
        "id": "QHcjNnjtKpys"
      }
    },
    {
      "cell_type": "code",
      "source": [
        "class Notebook:\n",
        "    \"\"\" A Notebook stores notes in string format \"\"\"\n",
        "\n",
        "    def __init__(self):\n",
        "        # protected attribute\n",
        "        self._notes = []\n",
        "\n",
        "    def add_note(self, note):\n",
        "        self._notes.append(note)\n",
        "\n",
        "    def retrieve_note(self, index):\n",
        "        return self._notes[index]\n",
        "\n",
        "    def all_notes(self):\n",
        "        return \",\".join(self._notes)\n",
        "\n",
        "class NotebookPro(Notebook):\n",
        "    \"\"\" A better Notebook with search functionality \"\"\"\n",
        "    def __init__(self):\n",
        "        # This is OK, the constructor is public despite the underscores\n",
        "        super().__init__()\n",
        "\n",
        "    # This works, the protected attribute is accessible to the derived class\n",
        "    def find_notes(self, search_term):\n",
        "        found = []\n",
        "        # IMPORTANT NOTE: if notes had been defined in Notebook as private, via\n",
        "        # double underscore, then this would cause an error here because\n",
        "        # self.__notes wouldn't work because the private attributes of Notebook\n",
        "        # wouldn't be accessible to the derived class NotebookPro\n",
        "        # you would get AttributeError: 'NotebookPro' object has no attribute\n",
        "        # '_NotebookPro__notes\n",
        "        for note in self._notes:\n",
        "            if search_term in note:\n",
        "                found.append(note)\n",
        "\n",
        "        return found"
      ],
      "metadata": {
        "id": "jUqxZYWtKsHE"
      },
      "execution_count": 26,
      "outputs": []
    },
    {
      "cell_type": "markdown",
      "source": [
        "## Overloading operators\n",
        "\\_\\_gt\\_\\_ >\n",
        "\n",
        "\\_\\_lt\\_\\_ <\n",
        "\n",
        "\\_\\_eq\\_\\_ ==\n",
        "\n",
        "\\_\\_ne\\_\\_ !=\n",
        "\n",
        "\\_\\_le\\_\\_ <=\n",
        "\n",
        "\\_\\_ge\\_\\_ >=\n",
        "\n",
        "\\_\\_add\\_\\_ +\n",
        "\n",
        "\\_\\_sub\\_\\_ -\n",
        "\n",
        "\\_\\_mul\\_\\_ *\n",
        "\n",
        "\\_\\_truediv\\_\\_ `\\`\n",
        "\n",
        "\\_\\_floordiv\\_\\_ `\\\\`\n",
        "\n",
        "If you want to define on operator like \"greater than\" for objects of a class that you have defined, there is a technique called \"operator overloading\". You can write a special method which returns the correct result of the operator."
      ],
      "metadata": {
        "id": "ne63KYyA57Tz"
      }
    },
    {
      "cell_type": "code",
      "source": [
        "class Product:\n",
        "    def __init__(self, name: str, price: float):\n",
        "        self.__name = name\n",
        "        self.__price = price\n",
        "\n",
        "    def __str__(self):\n",
        "        return f\"{self.__name} (price {self.__price})\"\n",
        "\n",
        "    @property\n",
        "    def price(self):\n",
        "        return self.__price\n",
        "\n",
        "    def __gt__(self, another_product):\n",
        "        return self.price > another_product.price\n",
        "\n",
        "orange = Product(\"Orange\", 2.90)\n",
        "apple = Product(\"Apple\", 3.95)\n",
        "\n",
        "if orange > apple:\n",
        "    print(\"Orange is greater\")\n",
        "else:\n",
        "    print(\"Apple is greater\")"
      ],
      "metadata": {
        "colab": {
          "base_uri": "https://localhost:8080/"
        },
        "id": "GuVROa9b6oVN",
        "outputId": "5f9db05d-ff57-4d52-8d6a-c169176ab417"
      },
      "execution_count": 27,
      "outputs": [
        {
          "output_type": "stream",
          "name": "stdout",
          "text": [
            "Apple is greater\n"
          ]
        }
      ]
    },
    {
      "cell_type": "markdown",
      "source": [
        "## \\_\\_repr\\_\\_\n",
        "\n",
        "\\_\\_str\\_\\_ returns a string representation of the object. Another quite similar method is \\_\\_repr\\_\\_ which returns a *technical* representation of the object. The method \\_\\_repr\\_\\_ is often implemented so that it **returns the program code which can be executed to return an object with identical contents to the current object**"
      ],
      "metadata": {
        "id": "3yeCJAzPL7lT"
      }
    },
    {
      "cell_type": "code",
      "source": [
        "class Person:\n",
        "    def __init__(self, name: str, age: int):\n",
        "        self.name = name\n",
        "        self.age = age\n",
        "\n",
        "    def __repr__(self):\n",
        "        return f\"Person({repr(self.name)}, {self.age})\"\n",
        "\n",
        "    def __str__(self):\n",
        "        return f\"{self.name} ({self.age} years)\"\n",
        "\n",
        "Person = Person(\"Anna\", 25)\n",
        "print(Person)\n",
        "print(repr(Person))"
      ],
      "metadata": {
        "colab": {
          "base_uri": "https://localhost:8080/"
        },
        "id": "f4nI2quoMqvO",
        "outputId": "1607cb04-0391-4ea9-a684-8373fed85f5b"
      },
      "execution_count": 28,
      "outputs": [
        {
          "output_type": "stream",
          "name": "stdout",
          "text": [
            "Anna (25 years)\n",
            "Person('Anna', 25)\n"
          ]
        }
      ]
    },
    {
      "cell_type": "markdown",
      "source": [
        "## Iterators. \\_\\_iter\\_\\_ and \\_\\_next\\_\\_\n",
        "\n",
        "The `for` statement can be used to iterate through many different data structures, files and collections of items. It is possible to make your own classes iterable, too. This is useful when the core purpose of the class involves storing a collection of items.\n",
        "\n",
        "To make a class iterable you must implement the iterator methods \\_\\_iter\\_\\_ and \\_\\_next\\_\\_"
      ],
      "metadata": {
        "id": "WR7VsrPSNG3C"
      }
    },
    {
      "cell_type": "code",
      "source": [
        "class Book:\n",
        "    def __init__(self, name: str, author: str, page_count: int):\n",
        "        self.name = name\n",
        "        self.author = author\n",
        "        self.page_count = page_count\n",
        "\n",
        "class Bookshelf:\n",
        "    def __init__(self):\n",
        "        self._books = []\n",
        "\n",
        "    def add_book(self, book: Book):\n",
        "        self._books.append(book)\n",
        "\n",
        "    # This is the iterator initialization method\n",
        "    # The iteration variable(s) should be initialized here\n",
        "    def __iter__(self):\n",
        "        self.n = 0\n",
        "        # the method returns a reference to the object itself as\n",
        "        # the iterator is implemented within the same class definition. The\n",
        "        # __iter__() method is required to return an iterator object. Bookshelp\n",
        "        # is acting as both the iterable (the object you can loop through) and\n",
        "        # the iterator (the object that keeps track of the current position).\n",
        "        # Because the Bookshelf class is acting as its own iterator, __iter__()\n",
        "        # simply returns self. In some cases, you might create a separate\n",
        "        # iterator class, but in this example, the Bookshelf class handles both\n",
        "        # roles\n",
        "        return self\n",
        "\n",
        "    # This method returns the next item within the object\n",
        "    # If all items have been traversed, the StopIteration event is raised\n",
        "    def __next__(self):\n",
        "        if self.n < len(self._books):\n",
        "            # Select the current item from the list within the object\n",
        "            book = self._books[self.n]\n",
        "            # increase the counter (i.e. iteration variable) by one\n",
        "            self.n += 1\n",
        "            # return the current item\n",
        "            return book\n",
        "        else:\n",
        "            # All books have been traversed\n",
        "            raise StopIteration\n",
        "\n",
        "if __name__ == \"__main__\":\n",
        "    b1 = Book(\"The Life of Python\", \"Montague Python\", 123)\n",
        "    b2 = Book(\"The Old Man and the C\", \"Ernest Hemingjavay\", 204)\n",
        "    b3 = Book(\"A Good Cup of Java\", \"Caffee Coder\", 997)\n",
        "\n",
        "    shelf = Bookshelf()\n",
        "    shelf.add_book(b1)\n",
        "    shelf.add_book(b2)\n",
        "    shelf.add_book(b3)\n",
        "\n",
        "    # Print the names of all the books\n",
        "    for book in shelf:\n",
        "        print(book.name)\n"
      ],
      "metadata": {
        "colab": {
          "base_uri": "https://localhost:8080/"
        },
        "id": "PpOjU1kRNGju",
        "outputId": "889bbd7b-2e8d-448a-9c83-3fbc6142dbc1"
      },
      "execution_count": 29,
      "outputs": [
        {
          "output_type": "stream",
          "name": "stdout",
          "text": [
            "The Life of Python\n",
            "The Old Man and the C\n",
            "A Good Cup of Java\n"
          ]
        }
      ]
    }
  ]
}